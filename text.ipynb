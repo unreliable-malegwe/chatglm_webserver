{
 "cells": [
  {
   "cell_type": "code",
   "execution_count": 1,
   "metadata": {},
   "outputs": [
    {
     "name": "stderr",
     "output_type": "stream",
     "text": [
      "Compile parallel cpu kernel gcc -O3 -fPIC -pthread -fopenmp -std=c99 E:\\.cache\\huggingface\\datasets\\modules\\transformers_modules\\THUDM\\chatglm2-6b-int4\\66ecaf1db3a5085714e133357ea4824b69698743\\quantization_kernels_parallel.c -shared -o E:\\.cache\\huggingface\\datasets\\modules\\transformers_modules\\THUDM\\chatglm2-6b-int4\\66ecaf1db3a5085714e133357ea4824b69698743\\quantization_kernels_parallel.so failed.\n"
     ]
    }
   ],
   "source": [
    "from transformers import AutoTokenizer, AutoModel\n",
    "tokenizer = AutoTokenizer.from_pretrained(\"THUDM/chatglm2-6b\", trust_remote_code=True)\n",
    "model = AutoModel.from_pretrained(\"THUDM/chatglm2-6b-int4\",trust_remote_code=True).cuda()\n",
    "model = model.eval()"
   ]
  },
  {
   "cell_type": "code",
   "execution_count": 2,
   "metadata": {},
   "outputs": [
    {
     "name": "stdout",
     "output_type": "stream",
     "text": [
      "Hello! How can I assist you today?\n"
     ]
    }
   ],
   "source": [
    "response, history = model.chat(tokenizer, \"hi\", history=[])\n",
    "print(response)"
   ]
  },
  {
   "cell_type": "code",
   "execution_count": 3,
   "metadata": {},
   "outputs": [
    {
     "name": "stdout",
     "output_type": "stream",
     "text": [
      "如果中午睡不着，可以尝试以下方法来放松自己：\n",
      "\n",
      "1. 放松肌肉：试着轻轻地放松每个肌肉群，从脚部开始，逐渐向上放松，直到全身都感到舒适。\n",
      "2. 做冥想：冥想可以帮助你放松身心，减轻压力和焦虑。找一个安静的地方，闭上眼睛，专注于呼吸，让思维逐渐平静下来。\n",
      "3. 喝一杯温水：用温水洗脸或喝一杯，可以缓解身体的紧张感，使你感到更加舒适。\n",
      "4. 起来走动：离开床铺，进行一些简单的伸展运动，如跑步、旋转等，可以让你感到更加清醒，并且有助于睡眠。\n",
      "5. 避免午睡：虽然午睡可以帮助你放松身体，但是如果午睡时间过长，会影响晚上的睡眠。所以，在下午尽量避免午睡，有助于晚上更容易入睡。\n",
      "\n",
      "希望这些方法可以帮助你放松身体，入睡成功。\n"
     ]
    }
   ],
   "source": [
    "response, history = model.chat(tokenizer, \"中午睡不着应该怎么办\", history=history)\n",
    "print(response)"
   ]
  },
  {
   "cell_type": "code",
   "execution_count": 4,
   "metadata": {},
   "outputs": [
    {
     "name": "stdout",
     "output_type": "stream",
     "text": [
      "我们上一条对话你问我如何优雅地生活，我建议你尝试换一种方式看待生活，注重自己的内心，同时保持积极的心态。\n"
     ]
    }
   ],
   "source": [
    "response, history = model.chat(tokenizer, \"上一条对话我们谈论了什么\", history=history)\n",
    "print(response)"
   ]
  },
  {
   "cell_type": "code",
   "execution_count": 7,
   "metadata": {},
   "outputs": [
    {
     "name": "stdout",
     "output_type": "stream",
     "text": [
      "[('hi', 'Hello! How can I assist you today?'), ('中午睡不着应该怎么办', '如果中午睡不着，可以尝试以下方法来放松自己：\\n\\n1. 放松肌肉：试着轻轻地放松每个肌肉群，从脚部开始，逐渐向上放松，直到全身都感到舒适。\\n2. 做冥想：冥想可以帮助你放松身心，减轻压力和焦虑。找一个安静的地方，闭上眼睛，专注于呼吸，让思维逐渐平静下来。\\n3. 喝一杯温水：用温水洗脸或喝一杯，可以缓解身体的紧张感，使你感到更加舒适。\\n4. 起来走动：离开床铺，进行一些简单的伸展运动，如跑步、旋转等，可以让你感到更加清醒，并且有助于睡眠。\\n5. 避免午睡：虽然午睡可以帮助你放松身体，但是如果午睡时间过长，会影响晚上的睡眠。所以，在下午尽量避免午睡，有助于晚上更容易入睡。\\n\\n希望这些方法可以帮助你放松身体，入睡成功。'), ('上一条对话我们谈论了什么', '我们上一条对话你问我如何优雅地生活，我建议你尝试换一种方式看待生活，注重自己的内心，同时保持积极的心态。')]\n"
     ]
    },
    {
     "data": {
      "text/plain": [
       "list"
      ]
     },
     "execution_count": 7,
     "metadata": {},
     "output_type": "execute_result"
    }
   ],
   "source": [
    "print(history)\n",
    "type(history)"
   ]
  },
  {
   "cell_type": "code",
   "execution_count": 7,
   "metadata": {},
   "outputs": [],
   "source": [
    "import pymysql\n",
    "\n",
    "db = pymysql.connect(host=\"localhost\", user=\"root\", password=\"wwzzxx123\", database=\"chatglm_webserver\", charset=\"utf8\")\n",
    "cursor = db.cursor()\n",
    "userid = \"user1\"\n",
    "password = \"123456\"\n",
    "sql =  \"insert into accounts(id, password) values ('\" + userid + \"', '\" + password + \"')\"\n",
    "cursor.execute(sql)\n",
    "db.commit()\n",
    "db.close()\n"
   ]
  },
  {
   "cell_type": "code",
   "execution_count": 10,
   "metadata": {},
   "outputs": [
    {
     "name": "stdout",
     "output_type": "stream",
     "text": [
      "(('user1', '123456'),)\n"
     ]
    }
   ],
   "source": [
    "db = pymysql.connect(host=\"localhost\", user=\"root\", password=\"wwzzxx123\", database=\"chatglm_webserver\", charset=\"utf8\")\n",
    "cursor = db.cursor()\n",
    "userid = \"user1\"\n",
    "password = \"123456\"\n",
    "sql = \"select * from accounts where id=%s\"\n",
    "cursor.execute(sql, (userid))\n",
    "results = cursor.fetchall()\n",
    "print(results)\n",
    "db.commit()\n",
    "db.close()"
   ]
  }
 ],
 "metadata": {
  "kernelspec": {
   "display_name": "pytorch",
   "language": "python",
   "name": "python3"
  },
  "language_info": {
   "codemirror_mode": {
    "name": "ipython",
    "version": 3
   },
   "file_extension": ".py",
   "mimetype": "text/x-python",
   "name": "python",
   "nbconvert_exporter": "python",
   "pygments_lexer": "ipython3",
   "version": "3.10.6"
  }
 },
 "nbformat": 4,
 "nbformat_minor": 2
}
